{
 "cells": [
  {
   "cell_type": "code",
   "execution_count": 72,
   "id": "fdc3774c",
   "metadata": {},
   "outputs": [],
   "source": [
    "import os"
   ]
  },
  {
   "cell_type": "code",
   "execution_count": 73,
   "id": "bff56849",
   "metadata": {},
   "outputs": [],
   "source": [
    "os.chdir('/Users/datanomica/Downloads/SynthText-master')"
   ]
  },
  {
   "cell_type": "code",
   "execution_count": 74,
   "id": "1158a3f8",
   "metadata": {},
   "outputs": [],
   "source": [
    "from __future__ import division\n",
    "import os\n",
    "import os.path as osp\n",
    "import numpy as np\n",
    "import matplotlib.pyplot as plt \n",
    "import h5py \n",
    "from common import *\n",
    "\n",
    "from natsort import natsorted\n",
    "import itertools\n",
    "import cv2\n",
    "import numpy as np\n",
    "from matplotlib import pyplot as plt\n",
    "import pandas as pd\n",
    "import regex as re\n",
    "import tqdm"
   ]
  },
  {
   "cell_type": "code",
   "execution_count": 75,
   "id": "431440ea",
   "metadata": {},
   "outputs": [],
   "source": [
    "def prepare_text(text):\n",
    "    '''general text preparation'''\n",
    "    text = text.replace('\\n', ' ').replace('\\t', ' ')\n",
    "    text = re.sub(r'\\s+', ' ', text).strip()\n",
    "    return text"
   ]
  },
  {
   "cell_type": "code",
   "execution_count": 76,
   "id": "c35bee08",
   "metadata": {},
   "outputs": [
    {
     "name": "stdout",
     "output_type": "stream",
     "text": [
      "total number of images :  887\n"
     ]
    }
   ],
   "source": [
    "db = h5py.File('results/SynthText.h5', 'r')\n",
    "\n",
    "dsets = natsorted(db['data'].keys())\n",
    "print (\"total number of images : \", len(dsets))"
   ]
  },
  {
   "cell_type": "code",
   "execution_count": 77,
   "id": "ecf5e7b4",
   "metadata": {},
   "outputs": [],
   "source": [
    "os.makedirs(f'scene_text_recognition/train_images/', exist_ok=True)\n",
    "os.makedirs(f'scene_text_recognition/val_images/', exist_ok=True)"
   ]
  },
  {
   "cell_type": "code",
   "execution_count": 78,
   "id": "4a2fe6ba",
   "metadata": {},
   "outputs": [
    {
     "data": {
      "text/plain": [
       "88"
      ]
     },
     "execution_count": 78,
     "metadata": {},
     "output_type": "execute_result"
    }
   ],
   "source": [
    "len_val_images = int(len(dsets) * 0.1)\n",
    "len_val_images"
   ]
  },
  {
   "cell_type": "code",
   "execution_count": 79,
   "id": "9b998a52",
   "metadata": {},
   "outputs": [
    {
     "data": {
      "text/plain": [
       "799"
      ]
     },
     "execution_count": 79,
     "metadata": {},
     "output_type": "execute_result"
    }
   ],
   "source": [
    "len_train_images = len(dsets) - len_val_images\n",
    "len_train_images"
   ]
  },
  {
   "cell_type": "code",
   "execution_count": 80,
   "id": "d4c1947a",
   "metadata": {},
   "outputs": [
    {
     "name": "stderr",
     "output_type": "stream",
     "text": [
      "<ipython-input-80-dbc19020316a>:4: TqdmDeprecationWarning: This function will be removed in tqdm==5.0.0\n",
      "Please use `tqdm.notebook.tqdm` instead of `tqdm.tqdm_notebook`\n",
      "  for item in tqdm.tqdm_notebook(list(range(len(dsets)))[0:len_train_images]):\n"
     ]
    },
    {
     "data": {
      "application/vnd.jupyter.widget-view+json": {
       "model_id": "341833807c6c4f748c2cf699a52349ca",
       "version_major": 2,
       "version_minor": 0
      },
      "text/plain": [
       "  0%|          | 0/799 [00:00<?, ?it/s]"
      ]
     },
     "metadata": {},
     "output_type": "display_data"
    },
    {
     "name": "stdout",
     "output_type": "stream",
     "text": [
      "<class 'OSError'>\n",
      "<class 'OSError'>\n",
      "<class 'OSError'>\n",
      "<class 'OSError'>\n",
      "<class 'OSError'>\n",
      "<class 'OSError'>\n",
      "<class 'OSError'>\n",
      "<class 'OSError'>\n",
      "<class 'OSError'>\n",
      "<class 'OSError'>\n",
      "<class 'OSError'>\n",
      "<class 'OSError'>\n",
      "<class 'OSError'>\n",
      "<class 'OSError'>\n",
      "<class 'OSError'>\n",
      "<class 'OSError'>\n",
      "<class 'OSError'>\n",
      "<class 'OSError'>\n",
      "<class 'OSError'>\n",
      "<class 'OSError'>\n",
      "<class 'OSError'>\n",
      "<class 'OSError'>\n",
      "<class 'OSError'>\n",
      "<class 'OSError'>\n",
      "<class 'OSError'>\n",
      "<class 'OSError'>\n",
      "<class 'OSError'>\n",
      "<class 'OSError'>\n",
      "<class 'OSError'>\n",
      "<class 'OSError'>\n",
      "<class 'OSError'>\n",
      "<class 'OSError'>\n",
      "<class 'OSError'>\n",
      "<class 'OSError'>\n",
      "<class 'OSError'>\n",
      "<class 'OSError'>\n",
      "<class 'OSError'>\n",
      "<class 'OSError'>\n",
      "<class 'OSError'>\n",
      "<class 'OSError'>\n",
      "<class 'OSError'>\n",
      "<class 'OSError'>\n",
      "<class 'OSError'>\n",
      "<class 'OSError'>\n",
      "<class 'OSError'>\n",
      "<class 'OSError'>\n",
      "<class 'OSError'>\n",
      "<class 'OSError'>\n",
      "<class 'OSError'>\n",
      "<class 'OSError'>\n",
      "<class 'OSError'>\n",
      "<class 'OSError'>\n",
      "<class 'OSError'>\n",
      "<class 'OSError'>\n",
      "<class 'OSError'>\n",
      "<class 'OSError'>\n",
      "<class 'OSError'>\n",
      "<class 'OSError'>\n",
      "<class 'OSError'>\n",
      "<class 'OSError'>\n",
      "<class 'OSError'>\n",
      "<class 'OSError'>\n",
      "<class 'OSError'>\n",
      "<class 'OSError'>\n",
      "<class 'OSError'>\n",
      "<class 'OSError'>\n",
      "<class 'OSError'>\n",
      "<class 'OSError'>\n",
      "<class 'OSError'>\n",
      "<class 'OSError'>\n",
      "<class 'OSError'>\n",
      "<class 'OSError'>\n",
      "<class 'OSError'>\n",
      "<class 'OSError'>\n",
      "<class 'OSError'>\n",
      "<class 'OSError'>\n",
      "<class 'OSError'>\n",
      "<class 'OSError'>\n",
      "<class 'OSError'>\n",
      "<class 'OSError'>\n",
      "<class 'OSError'>\n",
      "<class 'OSError'>\n",
      "<class 'OSError'>\n"
     ]
    }
   ],
   "source": [
    "im_n = 0\n",
    "im_name_label = []\n",
    "\n",
    "for item in tqdm.tqdm_notebook(list(range(len(dsets)))[0:len_train_images]):\n",
    "    \n",
    "    k = dsets[item]\n",
    "    \n",
    "    rgb = db['data'][k][...]\n",
    "    wordBB = db['data'][k].attrs['wordBB']\n",
    "    txt = db['data'][k].attrs['txt']\n",
    "    txt = [prepare_text(i.decode('utf-8')).split(' ') for i in txt]\n",
    "    txt = list(itertools.chain(*txt))\n",
    "    \n",
    "    #print(txt)\n",
    "    \n",
    "    # plot the word-BB:\n",
    "    for image_item, im_text in zip(range(wordBB.shape[-1]), txt):\n",
    "        \n",
    "        bb = wordBB[:,:,image_item]\n",
    "        bb = np.c_[bb,bb[:,0]]\n",
    "\n",
    "        img_cutted = rgb[int(min(bb[1])):int(max(bb[1])), int(min(bb[0])):int(max(bb[0]))]\n",
    "\n",
    "        im_name = f'{im_n}.png'\n",
    "        \n",
    "        try:\n",
    "            cv2.imwrite(f'scene_text_recognition/train_images/{im_name}', img_cutted, [cv2.IMWRITE_PNG_COMPRESSION, 0])\n",
    "            im_name_label.append([im_name, im_text])\n",
    "        except:\n",
    "            print(OSError)\n",
    "            im_n += 1\n",
    "            continue\n",
    "        #except:\n",
    "        #    print('Error!')\n",
    "\n",
    "        im_n += 1"
   ]
  },
  {
   "cell_type": "code",
   "execution_count": 81,
   "id": "1897dd82",
   "metadata": {},
   "outputs": [
    {
     "data": {
      "text/html": [
       "<div>\n",
       "<style scoped>\n",
       "    .dataframe tbody tr th:only-of-type {\n",
       "        vertical-align: middle;\n",
       "    }\n",
       "\n",
       "    .dataframe tbody tr th {\n",
       "        vertical-align: top;\n",
       "    }\n",
       "\n",
       "    .dataframe thead th {\n",
       "        text-align: right;\n",
       "    }\n",
       "</style>\n",
       "<table border=\"1\" class=\"dataframe\">\n",
       "  <thead>\n",
       "    <tr style=\"text-align: right;\">\n",
       "      <th></th>\n",
       "      <th>file_name</th>\n",
       "      <th>text</th>\n",
       "    </tr>\n",
       "  </thead>\n",
       "  <tbody>\n",
       "    <tr>\n",
       "      <th>0</th>\n",
       "      <td>1.png</td>\n",
       "      <td>2669</td>\n",
       "    </tr>\n",
       "    <tr>\n",
       "      <th>1</th>\n",
       "      <td>2.png</td>\n",
       "      <td>black</td>\n",
       "    </tr>\n",
       "    <tr>\n",
       "      <th>2</th>\n",
       "      <td>3.png</td>\n",
       "      <td>MARHESHVAN</td>\n",
       "    </tr>\n",
       "    <tr>\n",
       "      <th>3</th>\n",
       "      <td>4.png</td>\n",
       "      <td>Сладенько</td>\n",
       "    </tr>\n",
       "    <tr>\n",
       "      <th>4</th>\n",
       "      <td>6.png</td>\n",
       "      <td>GONAD</td>\n",
       "    </tr>\n",
       "    <tr>\n",
       "      <th>...</th>\n",
       "      <td>...</td>\n",
       "      <td>...</td>\n",
       "    </tr>\n",
       "    <tr>\n",
       "      <th>3916</th>\n",
       "      <td>3999.png</td>\n",
       "      <td>Ratherish</td>\n",
       "    </tr>\n",
       "    <tr>\n",
       "      <th>3917</th>\n",
       "      <td>4000.png</td>\n",
       "      <td>скрипну]</td>\n",
       "    </tr>\n",
       "    <tr>\n",
       "      <th>3918</th>\n",
       "      <td>4001.png</td>\n",
       "      <td>Cubitometacarpal</td>\n",
       "    </tr>\n",
       "    <tr>\n",
       "      <th>3919</th>\n",
       "      <td>4002.png</td>\n",
       "      <td>непросвещённое</td>\n",
       "    </tr>\n",
       "    <tr>\n",
       "      <th>3920</th>\n",
       "      <td>4003.png</td>\n",
       "      <td>2722</td>\n",
       "    </tr>\n",
       "  </tbody>\n",
       "</table>\n",
       "<p>3921 rows × 2 columns</p>\n",
       "</div>"
      ],
      "text/plain": [
       "     file_name              text\n",
       "0        1.png              2669\n",
       "1        2.png             black\n",
       "2        3.png        MARHESHVAN\n",
       "3        4.png         Сладенько\n",
       "4        6.png             GONAD\n",
       "...        ...               ...\n",
       "3916  3999.png         Ratherish\n",
       "3917  4000.png          скрипну]\n",
       "3918  4001.png  Cubitometacarpal\n",
       "3919  4002.png    непросвещённое\n",
       "3920  4003.png              2722\n",
       "\n",
       "[3921 rows x 2 columns]"
      ]
     },
     "execution_count": 81,
     "metadata": {},
     "output_type": "execute_result"
    }
   ],
   "source": [
    "columns = ['file_name','text']       \n",
    "train_df = pd.DataFrame(im_name_label, columns=columns)\n",
    "train_df"
   ]
  },
  {
   "cell_type": "code",
   "execution_count": 82,
   "id": "2c7e4c1a",
   "metadata": {},
   "outputs": [
    {
     "name": "stderr",
     "output_type": "stream",
     "text": [
      "<ipython-input-82-390b68b16fa8>:4: TqdmDeprecationWarning: This function will be removed in tqdm==5.0.0\n",
      "Please use `tqdm.notebook.tqdm` instead of `tqdm.tqdm_notebook`\n",
      "  for item in tqdm.tqdm_notebook(list(range(len(dsets)))[len_train_images:]):\n"
     ]
    },
    {
     "data": {
      "application/vnd.jupyter.widget-view+json": {
       "model_id": "4f5af64d27334ae7984db23db864f3b1",
       "version_major": 2,
       "version_minor": 0
      },
      "text/plain": [
       "  0%|          | 0/88 [00:00<?, ?it/s]"
      ]
     },
     "metadata": {},
     "output_type": "display_data"
    },
    {
     "name": "stdout",
     "output_type": "stream",
     "text": [
      "<class 'OSError'>\n",
      "<class 'OSError'>\n",
      "<class 'OSError'>\n",
      "<class 'OSError'>\n",
      "<class 'OSError'>\n",
      "<class 'OSError'>\n",
      "<class 'OSError'>\n",
      "<class 'OSError'>\n",
      "<class 'OSError'>\n",
      "<class 'OSError'>\n",
      "<class 'OSError'>\n",
      "<class 'OSError'>\n"
     ]
    }
   ],
   "source": [
    "im_n = 0\n",
    "im_name_label = []\n",
    "\n",
    "for item in tqdm.tqdm_notebook(list(range(len(dsets)))[len_train_images:]):\n",
    "    \n",
    "    k = dsets[item]\n",
    "    \n",
    "    rgb = db['data'][k][...]\n",
    "    wordBB = db['data'][k].attrs['wordBB']\n",
    "    txt = db['data'][k].attrs['txt']\n",
    "    txt = [prepare_text(i.decode('utf-8')).split(' ') for i in txt]\n",
    "    txt = list(itertools.chain(*txt))\n",
    "    \n",
    "    #print(txt)\n",
    "    \n",
    "    # plot the word-BB:\n",
    "    for image_item, im_text in zip(range(wordBB.shape[-1]), txt):\n",
    "        \n",
    "        bb = wordBB[:,:,image_item]\n",
    "        bb = np.c_[bb,bb[:,0]]\n",
    "\n",
    "        img_cutted = rgb[int(min(bb[1])):int(max(bb[1])), int(min(bb[0])):int(max(bb[0]))]\n",
    "\n",
    "        im_name = f'{im_n}.png'\n",
    "        \n",
    "        try:\n",
    "            cv2.imwrite(f'scene_text_recognition/val_images/{im_name}', img_cutted, [cv2.IMWRITE_PNG_COMPRESSION, 0])\n",
    "            im_name_label.append([im_name, im_text])\n",
    "        except:\n",
    "            print(OSError)\n",
    "            im_n += 1\n",
    "            continue\n",
    "        #except:\n",
    "        #    print('Error!')\n",
    "\n",
    "        im_n += 1"
   ]
  },
  {
   "cell_type": "code",
   "execution_count": 83,
   "id": "dc4963b9",
   "metadata": {},
   "outputs": [
    {
     "data": {
      "text/html": [
       "<div>\n",
       "<style scoped>\n",
       "    .dataframe tbody tr th:only-of-type {\n",
       "        vertical-align: middle;\n",
       "    }\n",
       "\n",
       "    .dataframe tbody tr th {\n",
       "        vertical-align: top;\n",
       "    }\n",
       "\n",
       "    .dataframe thead th {\n",
       "        text-align: right;\n",
       "    }\n",
       "</style>\n",
       "<table border=\"1\" class=\"dataframe\">\n",
       "  <thead>\n",
       "    <tr style=\"text-align: right;\">\n",
       "      <th></th>\n",
       "      <th>file_name</th>\n",
       "      <th>text</th>\n",
       "    </tr>\n",
       "  </thead>\n",
       "  <tbody>\n",
       "    <tr>\n",
       "      <th>0</th>\n",
       "      <td>0.png</td>\n",
       "      <td>False</td>\n",
       "    </tr>\n",
       "    <tr>\n",
       "      <th>1</th>\n",
       "      <td>1.png</td>\n",
       "      <td>1067</td>\n",
       "    </tr>\n",
       "    <tr>\n",
       "      <th>2</th>\n",
       "      <td>2.png</td>\n",
       "      <td>Tom</td>\n",
       "    </tr>\n",
       "    <tr>\n",
       "      <th>3</th>\n",
       "      <td>3.png</td>\n",
       "      <td>2508</td>\n",
       "    </tr>\n",
       "    <tr>\n",
       "      <th>4</th>\n",
       "      <td>4.png</td>\n",
       "      <td>2742</td>\n",
       "    </tr>\n",
       "    <tr>\n",
       "      <th>...</th>\n",
       "      <td>...</td>\n",
       "      <td>...</td>\n",
       "    </tr>\n",
       "    <tr>\n",
       "      <th>430</th>\n",
       "      <td>442.png</td>\n",
       "      <td>348</td>\n",
       "    </tr>\n",
       "    <tr>\n",
       "      <th>431</th>\n",
       "      <td>443.png</td>\n",
       "      <td>312</td>\n",
       "    </tr>\n",
       "    <tr>\n",
       "      <th>432</th>\n",
       "      <td>444.png</td>\n",
       "      <td>Schoolery</td>\n",
       "    </tr>\n",
       "    <tr>\n",
       "      <th>433</th>\n",
       "      <td>445.png</td>\n",
       "      <td>pre</td>\n",
       "    </tr>\n",
       "    <tr>\n",
       "      <th>434</th>\n",
       "      <td>446.png</td>\n",
       "      <td>farris</td>\n",
       "    </tr>\n",
       "  </tbody>\n",
       "</table>\n",
       "<p>435 rows × 2 columns</p>\n",
       "</div>"
      ],
      "text/plain": [
       "    file_name       text\n",
       "0       0.png      False\n",
       "1       1.png       1067\n",
       "2       2.png        Tom\n",
       "3       3.png       2508\n",
       "4       4.png       2742\n",
       "..        ...        ...\n",
       "430   442.png        348\n",
       "431   443.png        312\n",
       "432   444.png  Schoolery\n",
       "433   445.png        pre\n",
       "434   446.png     farris\n",
       "\n",
       "[435 rows x 2 columns]"
      ]
     },
     "execution_count": 83,
     "metadata": {},
     "output_type": "execute_result"
    }
   ],
   "source": [
    "columns = ['file_name','text']       \n",
    "val_df = pd.DataFrame(im_name_label, columns=columns)\n",
    "val_df"
   ]
  },
  {
   "cell_type": "code",
   "execution_count": 84,
   "id": "9b33adeb",
   "metadata": {},
   "outputs": [
    {
     "name": "stderr",
     "output_type": "stream",
     "text": [
      "<ipython-input-84-e7276f72c85e>:2: TqdmDeprecationWarning: This function will be removed in tqdm==5.0.0\n",
      "Please use `tqdm.notebook.tqdm` instead of `tqdm.tqdm_notebook`\n",
      "  for index in tqdm.tqdm_notebook(range(train_df.shape[0])):\n"
     ]
    },
    {
     "data": {
      "application/vnd.jupyter.widget-view+json": {
       "model_id": "5467480928af48bfbd4a068f81566299",
       "version_major": 2,
       "version_minor": 0
      },
      "text/plain": [
       "  0%|          | 0/3921 [00:00<?, ?it/s]"
      ]
     },
     "metadata": {},
     "output_type": "display_data"
    },
    {
     "name": "stderr",
     "output_type": "stream",
     "text": [
      "<ipython-input-84-e7276f72c85e>:8: TqdmDeprecationWarning: This function will be removed in tqdm==5.0.0\n",
      "Please use `tqdm.notebook.tqdm` instead of `tqdm.tqdm_notebook`\n",
      "  for index in tqdm.tqdm_notebook(range(val_df.shape[0])):\n"
     ]
    },
    {
     "data": {
      "application/vnd.jupyter.widget-view+json": {
       "model_id": "b7872b4f870b4efb96669df213d90b5c",
       "version_major": 2,
       "version_minor": 0
      },
      "text/plain": [
       "  0%|          | 0/435 [00:00<?, ?it/s]"
      ]
     },
     "metadata": {},
     "output_type": "display_data"
    }
   ],
   "source": [
    "with open(\"scene_text_recognition/train.txt\", \"w\", encoding='utf8') as fo:        \n",
    "    for index in tqdm.tqdm_notebook(range(train_df.shape[0])):\n",
    "        file_name = train_df.iloc[index][0]\n",
    "        text = train_df.iloc[index][1]\n",
    "        fo.write(file_name + '\\t' + text + '\\n')\n",
    "        \n",
    "with open(\"scene_text_recognition/val.txt\", \"w\", encoding='utf8') as fo:        \n",
    "    for index in tqdm.tqdm_notebook(range(val_df.shape[0])):\n",
    "        file_name = val_df.iloc[index][0]\n",
    "        text = val_df.iloc[index][1]\n",
    "        fo.write(file_name + '\\t' + text + '\\n')"
   ]
  },
  {
   "cell_type": "code",
   "execution_count": 85,
   "id": "b313b4b6",
   "metadata": {},
   "outputs": [
    {
     "data": {
      "text/plain": [
       "'/Users/datanomica/Downloads/SynthText-master/scene_text_recognition.zip'"
      ]
     },
     "execution_count": 85,
     "metadata": {},
     "output_type": "execute_result"
    }
   ],
   "source": [
    "import shutil\n",
    "shutil.make_archive('scene_text_recognition', 'zip', 'scene_text_recognition')"
   ]
  },
  {
   "cell_type": "code",
   "execution_count": null,
   "id": "363aa1dc",
   "metadata": {},
   "outputs": [],
   "source": []
  },
  {
   "cell_type": "code",
   "execution_count": null,
   "id": "eb72071b",
   "metadata": {},
   "outputs": [],
   "source": []
  }
 ],
 "metadata": {
  "kernelspec": {
   "display_name": "Python 3",
   "language": "python",
   "name": "python3"
  },
  "language_info": {
   "codemirror_mode": {
    "name": "ipython",
    "version": 3
   },
   "file_extension": ".py",
   "mimetype": "text/x-python",
   "name": "python",
   "nbconvert_exporter": "python",
   "pygments_lexer": "ipython3",
   "version": "3.8.8"
  }
 },
 "nbformat": 4,
 "nbformat_minor": 5
}
